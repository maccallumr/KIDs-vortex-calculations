{
 "metadata": {
  "name": "CDMS"
 },
 "nbformat": 3,
 "nbformat_minor": 0,
 "worksheets": [
  {
   "cells": [
    {
     "cell_type": "markdown",
     "metadata": {},
     "source": "## Determining Vortex Density $\\eta(B)$\n>Initial equation:\n\n\n   $$\\eta(B)=\\frac{B-B_th}{\\phi_0}$$\n\n>where:\n\n$\\eta(B)$ =Quantum vortex densty\n\n$B$ = Applied magnetic field\n\n$B_{th}$= Threshold magnetic field \n\n$\\phi_0$ = Quantum flux\n\n>Also note that:\n\n$$B_{th}=1.65\\frac{\\phi_0}{w^2}$$\n\n>Where w=width of resonator\n\n$$\\eta(B)=\\frac{Bw^2-1.65\\phi_0}{\\phi_0w^2}$$\n\n>Note: For every factor of $2.5B_{th}$ the vortex distribution divides into another row, therefore the number of rows can be defined as follows:\n\n$$Rows=\\frac{B}{2.5B_{th}}$$"
    },
    {
     "cell_type": "code",
     "collapsed": false,
     "input": "def vortex_density_onerow(B, w):\n    phi=(2.068*(10**-3))\n    n = ((B*(w**2) - 1.65 (phi))/((w**2)*(phi)))\n    '''For the above density function I just used the assumption\n    of a single row distribution\n    phi=flux-quantum\n    n=vortex density'''\n    return dens\n    print dens",
     "language": "python",
     "metadata": {},
     "outputs": [],
     "prompt_number": 11
    },
    {
     "cell_type": "markdown",
     "metadata": {},
     "source": "## Determining Change in Microwave Loss $\\frac{\\partial(1/Q_v)}{{\\partial}B}$\n>Initial equation:\n\n$$\\frac{\\partial(1/Q_v)}{{\\partial}B}= \\frac{j(x)\\phi_0}{2{\\pi}wf_ot\\eta_e}(\\frac{\\varepsilon + (f_o/f_d)^2}{1 + (f_o/f_d)^2})$$\n\n>Where:\n\n$j(x)$ =current density\n\n$L$ =inductance per unit length\n\n$\\phi_0$=quantum flux\n\n$\\eta_e$ =flux-flow viscosity\n\n$\\varepsilon$ =vortex creep strength\n\n$w$ =width  \n\n$t$ =thickness\n\n$f_0$ =fundamental frequency\n\n$f_d$ =depinning frequency\nWe know:\n\n$$\\eta_e=\\frac{\\phi_0^2}{2\\pi{\\rho_n}{\\xi^2}}$$\n\n>Where:\n\n$\\rho_n$ = normal resistivity\n\n$\\xi$ = Coherence length\n\n>And to account for the inductance per unit length we have:\n\n$$L={\\mu_0}\\frac{d}{w}$$\n\n>Where:\n\n$L$ =Inductance per unit length\n\n$\\mu_0$ =Permeability of free space\n\n>We plug in both above equations into our initial equation to get the following:\n\n$$\\frac{\\partial(1/Q_v)}{{\\partial}B}= \\frac{j(x){\\rho_n}{\\xi^2}}{f_ot{\\mu_0}d{\\phi_0}}(\\frac{\\varepsilon + (f_o/f_d)^2}{1 + (f_o/f_d)^2})$$\n\n"
    },
    {
     "cell_type": "code",
     "collapsed": false,
     "input": "def delta_microwave_loss_al(f,w,t,d,fd,h,x,p,j):\n    pi=3.1415\n    loss= (((j*p*(x**2))/(f*t*(1.256*(10**-6))*d*h))*((e+(f/fd)**2)/(1+(f/fd)**2)))*(10**-11)\n    '''p=normal resisitivity, , e=vortex-creep strength, x=coherence length\n    j=dimensionless factor based on current density\n    f=fundamental frequency, t=resonator thickness, d=gap from resonator to ground plate\n    w=width of resonator, fd=depinning frequency\n    NOTE: The variables are in the following units: Meters, GHz, Telsa, there is a factor of 10^-11 to accomodate for units'''\n    \n    print loss\n    return loss\n    \n    ",
     "language": "python",
     "metadata": {},
     "outputs": [],
     "prompt_number": 13
    },
    {
     "cell_type": "markdown",
     "metadata": {},
     "source": "## Determining fractional frequncy shift $\\frac{{\\delta}f}{f_0}$\n>Initial equation:\n\n$$\\frac{{\\delta}f}{f_0}=\\frac{[f(0)-f(B)]}{f_0}$$\n>Where:\n\n$f(0)=f_0$ = fundamental frequency\n\n$f(B)$ = Resonant frequency in applied magnetic field $B$\n\n>Note: An issue with determining the fractional-frequency shift is that $f(B)$ was only determined experimentally and not in a general form.\n>\nTo determine $f(B)$ I decided to use the experimental data provided.\nI recorded all the data points for the 4 different fundamental frequencies shown in Fig.4(b) from the research paper I was provided with: \"Microwave response of vortices in superconducting thin \ufb01lms of Re and Al\".\n\n\n> After compiling the data on a spreadsheet, I used the following formula (a form of the initial equation) to determine $f(B)$ for every each $B$:\n\n$$f(B)=f_0[1 - \\frac{{\\delta}f}{f_0}]$$\n\n> After determining the corresponding $f(B)$ value for each B, I took a linear regression line of $B$ vs. $f(B)$ (in the form $f(B)={\\alpha}B+\\beta$ ) for each fundamental frequency. Realizing that the only potential cause of the differing $f(B)$ and $\\frac{{\\delta}f}{f_0}$ values from one fundamental frequency to another was the fundamental freqeuncy itself. Using this information I divided out the fundamental freqeuncy fo from the regression lines and looked for any relationship between each of these equations. Before talking about the determined relations, note that I divided $f_0$ from the entire regression line $f(B)={\\alpha}B+\\beta$ but the following will be referring to the slope $(\\alpha)$ and intercept $(\\beta)$ serparately, starting with the slope. The first I noted was that each time $f_0$ was approximately halved the slope of $f(B)$ for the newly halved frequency is multiplied by a factor of 4 times the previous multiplication factor: \n>\n>For example the following would be a list of multipliers for successive fundamental freqencies:\n\n$\\frac{1}{4}, 1, 4, 16 ...$\n\n> (Note: Because we have not indexed these fundamental frequencies these multipliers do not correspond to any particular index, therefore in determining a relation involving $f_0$ an arbitrary $f_0$ was selected as the \"starting point\" for the above list of multipliers. This can be seen in the following mathmematical representation (where 6.8 was chosen as a starting $f_0$ ):\n\n$$(\\frac{6.8}{f_0})^2$$\n\n>This approximates the previously mentioned sequence.\n>\n>In addition to this relationship, I noticed that there seemed to be a common factor of $(-.0014)$. At this point, remember that $\\alpha$ was divided through by $f_0$ to determine the above relations, so will have to multiply the following by $f_0$ in the final $f(B)$formula:\n\n$$\\alpha=(-.0014)(\\frac{6.8}{f_0})^2(f_0)$$\n\n>At this point a general relation for $\\alpha$ has been determined. After dividing through $\\beta$ by $f_0$ it was clear that $\\beta$ could be modeled with some sort of exponentially decreasing function. Noting that the only variable aspect to the relationship between $B$ and $f(B)$ is $f_0$ so after trying a few relationsI found the following to be an accurate model:\n\n$$2^\\frac{1}{f_0}$$\n\n>Again note that $\\beta$ will need to be multiplied by $f_0$ because of the initial division through by $f_0$:\n\n$$\\beta=(2^\\frac{1}{f_0})$$\n\n>Putting all the relations together results in:\n\n$$f(B)= [{\\alpha}B + \\beta]=f_0[(-.0014)(\\frac{6.8}{f_0})^2B + (2^\\frac{1}{f_0})]$$\n\n>Now that a general form for f(B) has been determined, it can be plugged into the initial equation:\n\n$$\\frac{{\\delta}f}{f_0}=\\frac{[f_0- f_0({\\alpha}B+\\beta)]}{f_0}$$\n\n$$=[1-({\\alpha}B+\\beta)]$$\n\n$$=[1-(-.0014)(\\frac{6.8}{f_0})^2(f_0)B+(2^\\frac{1}{f_0})]$$\n>It must be noted that this expression must be multiplied by 10^-4. This is beause in determining the formula it was easier to work with numbers like $1,2,3...$ instead of $1*10^{-4}$ which is the actual order of magnitude of $\\frac{{\\delta}f}{f_0}$."
    },
    {
     "cell_type": "code",
     "collapsed": false,
     "input": "def fractional_frequency_shift(f, B):\n    \n    freq = ((1 - ((-.0014)*((6.8/f)**2)*f*B+(2^(1/f))))*(10^(-4)))\n    ''' =freq=fractional frequency shift\n    f iis in GHz, and B is in microtesla. The fractional frequency shift is was multiplied by 10^-4 for reasons mentioned above.\n    B is in microtelsa'''\n    \n    print freq\n    return freq",
     "language": "python",
     "metadata": {},
     "outputs": [],
     "prompt_number": 9
    },
    {
     "cell_type": "markdown",
     "metadata": {},
     "source": "## Calculations for a resonator of $w=256{\\mu}m$ and ground plate $(21mm *  21mm)$\n> $\\eta(B)= \\frac{1}{3.18{\\mu}m^2}$\n>\n>$\\frac{\\partial(1/Q_v)}{{\\partial}B}=\\frac{.1341}{T}$\n\n>It should be noted that I used to coherence length given in the paper I was provided $230nm$\n>\n>Also j(x) could be subject to change if the resonator size and # of rows of vortices changes, but such method of determining a new j(x) factor was not made clear\n\n>The fractional frequency shift is as follows:\n\n>$\\frac{{\\delta}f}{f_0}=6.4*10^-3$"
    },
    {
     "cell_type": "code",
     "collapsed": false,
     "input": "",
     "language": "python",
     "metadata": {},
     "outputs": []
    }
   ],
   "metadata": {}
  }
 ]
}