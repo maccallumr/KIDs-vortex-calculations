{
 "metadata": {
  "name": ""
 },
 "nbformat": 3,
 "nbformat_minor": 0,
 "worksheets": [
  {
   "cells": [
    {
     "cell_type": "code",
     "collapsed": false,
     "input": [
      "from numpy import arctanh,arcsin,sinh,cosh,tan,log"
     ],
     "language": "python",
     "metadata": {},
     "outputs": [],
     "prompt_number": 5
    },
    {
     "cell_type": "code",
     "collapsed": false,
     "input": [
      "from __future__ import division"
     ],
     "language": "python",
     "metadata": {},
     "outputs": [],
     "prompt_number": 6
    },
    {
     "cell_type": "code",
     "collapsed": false,
     "input": [
      "import pandas"
     ],
     "language": "python",
     "metadata": {},
     "outputs": [],
     "prompt_number": 7
    },
    {
     "cell_type": "code",
     "collapsed": false,
     "input": [
      "'''The following are fundamental constants used in later calculations'''\n",
      "\n",
      "planck=6.626*(10**(-34))\n",
      "mu=1.257*(10**(-6))\n",
      "flux_quantum=2.07*(10**(-15))\n",
      "echarge=1.6*(10**(-19))\n",
      "emass=9.11*(10**(-31))\n",
      "pi=3.1415\n",
      "boltzman=1.38*(10**(-23))\n",
      "\n"
     ],
     "language": "python",
     "metadata": {},
     "outputs": [],
     "prompt_number": 8
    },
    {
     "cell_type": "markdown",
     "metadata": {},
     "source": [
      "## Determining Vortex Density $\\eta(B)$\n",
      "Initial equation:\n",
      "\n",
      "\n",
      "   $$\\eta(B)=\\frac{B-B_th}{\\phi_0}$$\n",
      "\n",
      "where:\n",
      "\n",
      "$\\eta(B)$ =Quantum vortex density\n",
      "\n",
      "$B$ = Applied magnetic field\n",
      "\n",
      "$B_{th}$= Threshold magnetic field \n",
      "\n",
      "$\\phi_0$ = Quantum flux\n",
      "\n",
      "Also note that:\n",
      "\n",
      "$$B_{th}\\propto \\frac{\\phi_0}{w^2}$$\n",
      "\n",
      "And one consideration, assuming a completely stable condition is:\n",
      "\n",
      "$$B_{th}=\\frac{2\\phi_0}{{\\pi}w^2}\\ln(\\frac{{\\alpha}w}{\\xi})$$\n",
      "\n",
      "Where in this case we can state:\n",
      "\n",
      "$$\\alpha=\\frac{2}{{\\pi}}$$\n",
      "\n",
      "and becaause the coherence lengh lies in the clean limit (will be shown later):\n",
      "\n",
      "$$\\xi\\approx\\xi_0$$ \n",
      "\n",
      "Where w=width of resonator\n",
      "\n",
      "$$\\eta(B)=\\frac{(B-B_{th})\n",
      "}{\\phi_0}$$\n",
      "\n",
      "We then multiply by a factor of $10^{-12}$ to get number of vortices per ${\\mu}m^2$\n",
      "\n",
      "Note: For every factor of $2.5B_{th}$ the vortex distribution divides into another row, therefore the number of rows can be defined as follows:\n",
      "\n",
      "$$Rows=\\frac{B}{2.5B_{th}}$$"
     ]
    },
    {
     "cell_type": "code",
     "collapsed": false,
     "input": [
      "print \"Representation of vortex distribution splitting into multiple rows\"\n",
      "from IPython.core.display import Image \n",
      "Image(filename='kids5.png')\n"
     ],
     "language": "python",
     "metadata": {},
     "outputs": [
      {
       "output_type": "stream",
       "stream": "stdout",
       "text": [
        "Representation of vortex distribution splitting into multiple rows\n"
       ]
      },
      {
       "metadata": {},
       "output_type": "pyout",
       "png": "[encoded data removed]",
       "prompt_number": 9,
       "text": [
        "<IPython.core.display.Image at 0xa69e4a8>"
       ]
      }
     ],
     "prompt_number": 9
    },
    {
     "cell_type": "code",
     "collapsed": false,
     "input": [
      "def Bth(w,effective_coherence):\n",
      "    \n",
      "    '''This calculates the threshold magnetic field\n",
      "    w=width of resonator'''\n",
      "    \n",
      "    return ((2*flux_quantum)/(pi*w**2))*log((2*w)/(effective_coherence))\n",
      "\n",
      "def vortex_density_onerow(B,w,effective_coherence):\n",
      "    \n",
      "    '''For the above density function I just used the assumption\n",
      "    of a single row distribution\n",
      "    B= attenuating magnetic field\n",
      "    The factor or 10^-12 is due to converting from number per m^2 to micrometers^2'''\n",
      "    \n",
      "    \n",
      "    return ((B-Bth(w,effective_coherence))/flux_quantum)*(10**-12)    "
     ],
     "language": "python",
     "metadata": {},
     "outputs": [],
     "prompt_number": 10
    },
    {
     "cell_type": "code",
     "collapsed": false,
     "input": [
      "print \"General diagram of a resonator/groud plane set up\"\n",
      "from IPython.core.display import Image \n",
      "Image(filename='micrstrip.png')\n"
     ],
     "language": "python",
     "metadata": {},
     "outputs": [
      {
       "output_type": "stream",
       "stream": "stdout",
       "text": [
        "General diagram of a resonator/groud plane set up\n"
       ]
      },
      {
       "metadata": {},
       "output_type": "pyout",
       "png": "[encoded data removed]",
       "prompt_number": 11,
       "text": [
        "<IPython.core.display.Image at 0xa69e630>"
       ]
      }
     ],
     "prompt_number": 11
    },
    {
     "cell_type": "markdown",
     "metadata": {},
     "source": [
      "##Determining Microwave Loss $\\frac{1}{Q_v}$\n",
      "Initial eqution: $\\frac{1}{Q_v}=\\frac{j(x)Re[\\tilde{\\rho_v}]}{2{\\pi}f_0wtL'}$\n",
      "\n",
      "Note that: $\\tilde{\\rho_v}=\\frac{{\\phi_0}(B-B_{th})}{\\eta_e}[\\frac{\\varepsilon + i(\\frac{f_0}{f_d})}{1 + i(\\frac{f_0}{f_d})}]$\n",
      "\n",
      "One must determine the real component of ${\\rho_v}$\n",
      "\n",
      "Through simple calculations we determine:\n",
      "$$Re[\\tilde{\\rho_v}]= \\frac{{\\phi_0}(B-B_{th})}{{\\eta_e}}[\\frac{\\varepsilon + (\\frac{f_0}{f_d})^2}{1 + (\\frac{f_0}{f_d})^2}]$$\n",
      "\n",
      "Plug in $Re[\\tilde{\\rho_v}]$ into the initial equation:\n",
      "$\\frac{1}{Q_v}=\\frac{j(x)\\frac{{\\phi_0}(B-B_{th})}{{\\eta_e}}[\\frac{\\varepsilon + (\\frac{f_0}{f_d})^2}{1 + (\\frac{f_0}{f_d})^2}]}{2{\\pi}f_0wtL'}$\n",
      "\n",
      "Also note that we can plug in:\n",
      "${\\eta_e}=\\frac{{\\phi_0}^2}{2{\\pi}{\\rho_n}{\\xi}^2}$\n",
      "\n",
      "And we get:\n",
      "$\\frac{1}{Q_v}=\\frac{j(x)\\rho_n\\xi^2\\eta(B)}{f_owtL'}[\\frac{\\varepsilon + (\\frac{f_0}{f_d})^2}{1 + (\\frac{f_0}{f_d})^2}]$\n",
      "\n",
      "We have to correct the width and swap it out with the effective width $w_{eff}$ which we know to be $w_{eff}=w+2d$\n",
      "\n",
      "Furthermore we realize that we have an area factor in the numerator if we multiply by $\\frac{w_{eff}}{w_{eff}}$\n",
      "\n",
      "$\\frac{1}{Q_v}=\\frac{j(x)\\rho_n\\xi^2\\eta(B)A}{f_oww_{eff}tL}[\\frac{\\varepsilon + (\\frac{f_0}{f_d})^2}{1 + (\\frac{f_0}{f_d})^2}]$\n",
      "\n",
      "We can see that $L'$ (inductance per unit length) is now just inductance $L$ and the length l is incorporated in the numerator (in the effective area term $A_{eff}$)\n",
      "\n",
      "\n",
      "Thus:\n",
      "\n",
      "$\\frac{1}{Q_v}=\\frac{j(x)\\rho_n\\xi^2\\eta(B)A_{eff}}{f_oww_{eff}tL}[\\frac{\\varepsilon + (\\frac{f_0}{f_d})^2}{1 + (\\frac{f_0}{f_d})^2}]$\n",
      "\n",
      "Where:\n",
      "\n",
      "$\\frac{1}{Q_v}=$ Microwave loss\n",
      "\n",
      "$\\tilde{\\rho_v}=$ Complex resistivity due to vortex response\n",
      "\n",
      "Note: $\\eta(B)$ is vortex density\n"
     ]
    },
    {
     "cell_type": "code",
     "collapsed": false,
     "input": [
      "print \"Plot of applied magnetic field vs. microwave loss\"\n",
      "from IPython.core.display import Image \n",
      "Image(filename='kids1.png')\n"
     ],
     "language": "python",
     "metadata": {},
     "outputs": [
      {
       "output_type": "stream",
       "stream": "stdout",
       "text": [
        "Plot of applied magnetic field vs. microwave loss\n"
       ]
      },
      {
       "metadata": {},
       "output_type": "pyout",
       "png": "[encoded data removed]",
       "prompt_number": 12,
       "text": [
        "<IPython.core.display.Image at 0xa69e668>"
       ]
      }
     ],
     "prompt_number": 12
    },
    {
     "cell_type": "code",
     "collapsed": false,
     "input": [
      "def vort_resistivity(B,w,fo,fd,creep,resistivity,effective_coherence):\n",
      "    '''This calculates the vortex resisitivity \n",
      "    all variables previously explained (real component)'''\n",
      "    \n",
      "    return ((flux_quantum*(B-Bth(w,effective_coherence)))/(flux_flow(tempcrit, resistivity,effective_coherence)))*((creep+(fo/fd)**2)/(1+(fo/fd)**2))\n",
      "    \n",
      "    '''The factor of 10^9 arose from unit considerations'''\n",
      "def w_eff(w,d):\n",
      "    '''This is the effective width for calculating the area containing vorticies'''\n",
      "    return (w+2*d)\n",
      "\n",
      "def microwave_loss (w,d,t,B,fo,fd,creep,temp,tempcrit,effective_coherence,resistivity, pen_depth_micro,pen_depth_ground,resonator_length):\n",
      "    \n",
      "    return (((dimensionless_J(w,0)*resistivity*(effective_coherence**2)*((B-Bth(w,effective_coherence))/flux_quantum)*resonator_length*w_eff(w,d))/(fo*(w*w_eff(w,d))*t*inductance_total(w,d,t,temp,tempcrit,pen_depth_micro, pen_depth_ground,resonator_length)))*((creep+(fo/fd)**2)/(1+(fo/fd)**2)))*(10**-9)"
     ],
     "language": "python",
     "metadata": {},
     "outputs": [],
     "prompt_number": 39
    },
    {
     "cell_type": "markdown",
     "metadata": {},
     "source": [
      "## Determining Change in Microwave Loss $\\frac{\\partial(1/Q_v)}{{\\partial}B}$\n",
      "Initial equation:\n",
      "\n",
      "$$\\frac{\\partial(1/Q_v)}{{\\partial}B}= \\frac{j(x)\\phi_0}{2{\\pi}wf_oLt'\\eta_e}(\\frac{\\varepsilon + (f_o/f_d)^2}{1 + (f_o/f_d)^2})$$\n",
      "\n",
      "Where:\n",
      "\n",
      "$j(x)$ = Dimensionaless constantt representing current density\n",
      "\n",
      "$L'$ =inductance per unit length\n",
      "\n",
      "$\\phi_0$=quantum flux\n",
      "\n",
      "$\\eta_e$ =flux-flow viscosity\n",
      "\n",
      "$\\varepsilon$ =vortex creep strength\n",
      "\n",
      "$w$ =width  \n",
      "\n",
      "$t$ =thickness\n",
      "\n",
      "$f_0$ =fundamental frequency\n",
      "\n",
      "$f_d$ =depinning frequency\n",
      "We know:\n",
      "\n",
      "$$\\eta_e=\\frac{\\phi_0^2}{2\\pi{\\rho_n}{\\xi^2}}$$\n",
      "\n",
      "Where:\n",
      "\n",
      "$\\rho_n$ = normal resistivity\n",
      "\n",
      "$\\xi$ = Coherence length\n",
      "\n",
      "And to account for the inductance per unit length we have:\n",
      "\n",
      "($L_{total}$ redefined more explicitly later)\n",
      "\n",
      "Where:\n",
      "\n",
      "$L_{total}$ = Total inductance\n",
      "\n",
      "$\\mu_0$ =Permeability of free space\n",
      "\n",
      "We plug in both above equations into our initial equation to get the following:\n",
      "\n",
      "$$\\frac{\\partial(1/Q_v)}{{\\partial}B}= \\frac{j(x){\\rho_n}{\\xi^2}}{f_otwL'{\\phi_0}}(\\frac{\\varepsilon + (f_o/f_d)^2}{1 + (f_o/f_d)^2})$$\n",
      "\n",
      "Now we must make the same area correction that we made in calculating microwave loss. The effective width will be the same and we can multiply $\\frac{\\partial(1/Q_v)}{{\\partial}B}$ by a factor of $\\frac{w_{eff}}{w_{eff}}$ along with taking the length from $L'$ to get an area factor in the numerator:\n",
      "\n",
      "$$\\frac{\\partial(1/Q_v)}{{\\partial}B}= \\frac{j(x){\\rho_n}{\\xi^2}A}{f_otww_{eff}L{\\phi_0}}(\\frac{\\varepsilon + (f_o/f_d)^2}{1 + (f_o/f_d)^2})$$\n",
      "\n",
      "Again note that: $A_{eff}=l(w_{eff})$ where $w_{eff}=w+2d$\n",
      "\n",
      "Thus our corrected change in microwave loss is as follows:\n",
      "\n",
      "$$\\frac{\\partial(1/Q_v)}{{\\partial}B}= \\frac{j(x){\\rho_n}{\\xi^2}A_{eff}}{f_otww_{eff}L{\\phi_0}}(\\frac{\\varepsilon + (f_o/f_d)^2}{1 + (f_o/f_d)^2})$$\n",
      "\n",
      "Note that the above equation is equal to simply taking the partial derivative  of $\\frac{1}{Q_v}$ with respect to $B$\n"
     ]
    },
    {
     "cell_type": "code",
     "collapsed": false,
     "input": [
      "def flux_flow (tempcrit, resistivity, effective_coherence):\n",
      "    \n",
      "    '''this function is used to calculate the \n",
      "    flux-flow viscosity of quantum vortices\n",
      "    mfp= mean free path\n",
      "    tempcrit= critical temperature\n",
      "    resistivity=resistivity of substance'''\n",
      "    \n",
      "    return ((flux_quantum)**2)/(2*pi*resistivity*(effective_coherence)**2)\n",
      "\n",
      "def delta_microwave_loss(w,d,t,fo,fd,creep,temp,tempcrit,effective_coherence,resistivity,pen_depth_micro,pen_depth_ground,resonator_length):\n",
      "    \n",
      "    '''creep=vortex creep\n",
      "    fo=fundamental frequency\n",
      "    fd=depinning frequency\n",
      "    temp=temperature of resonator\n",
      "    t=thickness\n",
      "    d=distance from ground plane to resonator \n",
      "    x= position along width of resonator starting from x=0 at the center\n",
      "    NOTE: The variables are in the following units: Meters, GHz, Telsa, there is a factor of 10^-9 to accomodate for units (plugging in frequency as gHz)\n",
      "    ALSO: When plugging in j(x) for this formula we take it to be the dimensionaless j(x) at x=0'''   \n",
      "    \n",
      "    return(((dimensionless_J(w,0)*resistivity*(effective_coherence**2)*resonator_length*w_eff(w,d))/(fo*t*(w*w_eff(w,d))*flux_quantum*inductance_total(w,d,t,temp,tempcrit,pen_depth_micro,pen_depth_ground,resonator_length)))*((creep+(fo/fd)**2)/(1+(fo/fd)**2)))*(10**-9)\n",
      "    "
     ],
     "language": "python",
     "metadata": {},
     "outputs": [],
     "prompt_number": 45
    },
    {
     "cell_type": "markdown",
     "metadata": {},
     "source": [
      "## Determining fractional frequncy shift $\\frac{{\\delta}f}{f_0}$\n",
      "\n",
      "Note: I only used the Al data set to determine this relation so it may not uphold for other materials\n",
      "\n",
      "Initial equation:\n",
      "\n",
      "$$\\frac{{\\delta}f}{f_0}=\\frac{[f(0)-f(B)]}{f_0}$$\n",
      "Where:\n",
      "\n",
      "$f(0)=f_0$ = fundamental frequency\n",
      "\n",
      "$f(B)$ = Resonant frequency in applied magnetic field $B$\n",
      "\n",
      "Note: An issue with determining the fractional-frequency shift is that $f(B)$ was only determined experimentally and not in a general form.\n",
      "\n",
      "To determine $f(B)$ I decided to use the experimental data provided.\n",
      "I recorded all the data points for the 4 different fundamental frequencies shown in Fig.4(b) from the research paper I was provided with: \"Microwave response of vortices in superconducting thin \ufb01lms of Re and Al\".\n",
      "\n",
      "\n",
      "After compiling the data on a spreadsheet, I used the following formula (a form of the initial equation) to determine $f(B)$ for every each $B$:\n",
      "\n",
      "$$f(B)=f_0[1 - \\frac{{\\delta}f}{f_0}]$$\n",
      "\n",
      "After determining the corresponding $f(B)$ value for each B, I took a linear regression line of $B$ vs. $f(B)$ (in the form $f(B)={\\alpha}B+\\beta$ ) for each fundamental frequency. Realizing that the only potential cause of the differing $f(B)$ and $\\frac{{\\delta}f}{f_0}$ values from one fundamental frequency to another was the fundamental freqeuncy itself. Using this information I divided out the fundamental freqeuncy fo from the regression lines and looked for any relationship between each of these equations. Before talking about the determined relations, note that I divided $f_0$ from the entire regression line $f(B)={\\alpha}B+\\beta$ but the following will be referring to the slope $(\\alpha)$ and intercept $(\\beta)$ serparately, starting with the slope. The first I noted was that each time $f_0$ was approximately halved the slope of $f(B)$ for the newly halved frequency is multiplied by a factor of 4 times the previous multiplication factor: \n",
      "\n",
      "For example the following would be a list of multipliers for successive fundamental freqencies:\n",
      "\n",
      "$\\frac{1}{4}, 1, 4, 16 ...$\n",
      "\n",
      "(Note: Because we have not indexed these fundamental frequencies these multipliers do not correspond to any particular index, therefore in determining a relation involving $f_0$ an arbitrary $f_0$ was selected as the \"starting point\" for the above list of multipliers. This can be seen in the following mathmematical representation (where 6.8 was chosen as a starting $f_0$ ):\n",
      "\n",
      "$$(\\frac{6.8}{f_0})^2$$\n",
      "\n",
      "This approximates the previously mentioned sequence.\n",
      "\n",
      "In addition to this relationship, I noticed that there seemed to be a common factor of $(-.0014)$. At this point, remember that $\\alpha$ was divided through by $f_0$ to determine the above relations, so will have to multiply the following by $f_0$ in the final $f(B)$formula:\n",
      "\n",
      "$$\\alpha=(-.0014)(\\frac{6.8}{f_0})^2(f_0)$$\n",
      "\n",
      "At this point a general relation for $\\alpha$ has been determined. After dividing through $\\beta$ by $f_0$ it was clear that $\\beta$ could be modeled with some sort of exponentially decreasing function. Noting that the only variable aspect to the relationship between $B$ and $f(B)$ is $f_0$ so after trying a few relations I found the following to be an accurate model:\n",
      "\n",
      "$$2^\\frac{1}{f_0}$$\n",
      "\n",
      "Again note that $\\beta$ will need to be multiplied by $f_0$ because of the initial division through by $f_0$:\n",
      "\n",
      "$$\\beta=(2^\\frac{1}{f_0})$$\n",
      "\n",
      "Putting all the relations together results in:\n",
      "\n",
      "$$f(B)= [{\\alpha}B + \\beta]=f_0[(-.0014)(\\frac{6.8}{f_0})^2B + (2^\\frac{1}{f_0})]$$\n",
      "\n",
      "Now that a general form for f(B) has been determined, it can be plugged into the initial equation:\n",
      "\n",
      "$$\\frac{{\\delta}f}{f_0}=\\frac{[f_0- f_0({\\alpha}B+\\beta)]}{f_0}$$\n",
      "\n",
      "$$=[1-({\\alpha}B+\\beta)]$$\n",
      "\n",
      "$$=[1-(-.0014)(\\frac{6.8}{f_0})^2(f_0)B+(2^\\frac{1}{f_0})]$$\n",
      "It must be noted that this expression must be multiplied by 10^-4. This is beause in determining the formula it was easier to work with numbers like $1,2,3...$ instead of $1*10^{-4}$ which is the actual order of magnitude of $\\frac{{\\delta}f}{f_0}$."
     ]
    },
    {
     "cell_type": "code",
     "collapsed": false,
     "input": [
      "print \"Plot of applied magnetic field vs. fractional frequency shift\"\n",
      "from IPython.core.display import Image \n",
      "Image(filename='kids2.png')\n"
     ],
     "language": "python",
     "metadata": {},
     "outputs": [
      {
       "output_type": "stream",
       "stream": "stdout",
       "text": [
        "Plot of applied magnetic field vs. fractional frequency shift\n"
       ]
      },
      {
       "metadata": {},
       "output_type": "pyout",
       "png": "[encoded data removed]",
       "prompt_number": 15,
       "text": [
        "<IPython.core.display.Image at 0xa69e908>"
       ]
      }
     ],
     "prompt_number": 15
    },
    {
     "cell_type": "code",
     "collapsed": false,
     "input": [
      "def fractional_frequency_shift(fo, B):\n",
      "    ''' This calculates fractional frequency shift\n",
      "    fo is in GHz, and B is in microtesla. The fractional frequency shift is was multiplied by 10^-4 for reasons mentioned above.\n",
      "    B is in microtelsa'''\n",
      "    return ((1 - ((-.0014)*((6.8/fo)**2)*fo*B+(2**(1/fo))))*(10**(-4)))\n"
     ],
     "language": "python",
     "metadata": {},
     "outputs": [],
     "prompt_number": 16
    },
    {
     "cell_type": "markdown",
     "metadata": {},
     "source": [
      "##Determining j(x) (Dimensionless factor associated with current density $J_s(x)$\n",
      "\n",
      "Note: Current density $J_s(x)$ is a nonuniform distribution due to variations in current density between the center and edges of the conductor. To rectify the assumption was made that the current density of the center conductor could approximate the total current density.\n",
      "\n",
      "Inital equation: $j(x)=\\frac{J_s(x)^2}{< J_s(x)>^2}$ \n",
      "\n",
      "Where:\n",
      "\n",
      "$w =$ width of resonator\n",
      "\n",
      "$x =$ position from center of resonator (x=0 at center of resonator)\n",
      "\n",
      "$J_s(x) =$ Current density (center conductor)\n",
      "\n",
      "$<J_s(x)>$ = Average current density\n",
      "\n",
      "We know:\n",
      "$J_s(x)=J_s(0)[1-(\\frac{2x}{w})^2]^{-(\\frac{1}{2})}$ \n",
      "\n",
      "Avg current density can be calculated:\n",
      "$$< J_s(x)>=2[\\frac{1}{\\frac{w}{2}}\\int_{0}^{\\frac{w}{2}}J_s(x)dx]=J_s(0)\\frac{w}{2}arcsin(\\frac{2x}{w})|_0^{\\frac{w}{2}}$$\n",
      "\n",
      "$$=J_s(0)(2arcsin(1))$$\n",
      "\n",
      "$$\\frac{J_s(x)^2}{< J_s(x)>^2}=\\frac{[1-(\\frac{2x}{w})^2]}{2arcsin(1)}$$\n",
      "\n"
     ]
    },
    {
     "cell_type": "code",
     "collapsed": false,
     "input": [
      "print \"Diagram of current density in the resonator; dark grey represents current distribution\"\n",
      "from IPython.core.display import Image \n",
      "Image(filename='kids3.png')\n"
     ],
     "language": "python",
     "metadata": {},
     "outputs": [
      {
       "output_type": "stream",
       "stream": "stdout",
       "text": [
        "Diagram of current density in the resonator; dark grey represents current distribution\n"
       ]
      },
      {
       "metadata": {},
       "output_type": "pyout",
       "png": "[encoded data removed]",
       "prompt_number": 17,
       "text": [
        "<IPython.core.display.Image at 0xa69e8d0>"
       ]
      }
     ],
     "prompt_number": 17
    },
    {
     "cell_type": "code",
     "collapsed": false,
     "input": [
      "print \"Diagram of electric and magnetic fields in a resonator\"\n",
      "from IPython.core.display import Image \n",
      "Image(filename='kids4.png')\n"
     ],
     "language": "python",
     "metadata": {},
     "outputs": [
      {
       "output_type": "stream",
       "stream": "stdout",
       "text": [
        "Diagram of electric and magnetic fields in a resonator\n"
       ]
      },
      {
       "metadata": {},
       "output_type": "pyout",
       "png": "[encoded data removed]",
       "prompt_number": 18,
       "text": [
        "<IPython.core.display.Image at 0xa69e9b0>"
       ]
      }
     ],
     "prompt_number": 18
    },
    {
     "cell_type": "code",
     "collapsed": false,
     "input": [
      "def dimensionless_J(w,x):\n",
      "    return ((1-((2*x/w)**2))/(2*arcsin(1)))"
     ],
     "language": "python",
     "metadata": {},
     "outputs": [],
     "prompt_number": 19
    },
    {
     "cell_type": "markdown",
     "metadata": {},
     "source": [
      "##Total Inductancce per unit length (explicit definition)\n",
      "\n",
      "Note: We're using indutance per unit length = (denoted by the apostrophe) and multiplying it by the length of the resonator to get the total inductance of the resonator. \n",
      "\n",
      "Initial equation: $L'_{total}=L'_{kinetic}+L'_{film}$\n",
      "\n",
      "Where: $L'_{film}=L'_{internal}+L'_{external}$\n",
      "\n",
      "We can calculate the above quantities:\n",
      "\n",
      "$L'_{int}=\\int_V\\frac{B^2}{\\mu_0I^2}dV= \\frac{\\mu_0}{2w}[\\frac{\\frac{\\lambda}{2}sinh(\\frac{2d}{\\lambda})-d}{[sinh(\\frac{d}{\\lambda}]^2}]$\n",
      "\n",
      "$L'_{Kinetic}=\\int_V\\frac{\\mu_0\\lambda^2J_s^2}{I^2}dV=\\frac{\\mu_0}{2w}[\\frac{\\frac{\\lambda}{2}sinh(\\frac{2d}{\\lambda})+d}{[sinh(\\frac{d}{\\lambda}]^2}]$\n",
      "\n",
      "We note that for very thick films $L_{internal}=L_{kinetic}$ and when the thickness is less than or equal to the penetration depth $L_{Kinetic}>L_{internal}$\n",
      "\n",
      "If we combine the above equations we get:\n",
      "\n",
      "$L'_{film}=\\frac{{\\mu_0}{\\lambda}}{w}coth(\\frac{b}{\\lambda})$\n",
      "\n",
      "We also know that: \n",
      "\n",
      "$L'_{external}=\\frac{\\mu_0d}{w}$\n",
      "\n",
      "Therefore:\n",
      "\n",
      "$L'_{total}= L'_{film}+L'_{external}=\\frac{\\mu_0d}{Kw}[1+\\frac{\\lambda_1}{d}+\\frac{\\lambda_2}{d}]$\n",
      "\n",
      "The London penetration depth is dependent on temperature:\n",
      "\n",
      "$\\lambda(T)=\\lambda_{L0}[1-\\frac{T}{T_c}^4]^{-\\frac{1}{2}}$\n",
      "\n",
      "Note: Because our temperatures are so small the variation of penetration depth due to temperature is negligible\n",
      "\n",
      "So for small values of T:\n",
      "\n",
      "$\\lambda(T)\\approx\\lambda_{L0}$\n",
      "\n",
      "We then can calculate the total inductance $L_{total}$ by multiplying our expression for total inductance per unit length $L'_{total}$:\n",
      "\n",
      "\n",
      "$L_{total}=\\frac{l\\mu_0d}{Kw}[1+\\frac{\\lambda_1}{d}+\\frac{\\lambda_2}{d}]$\n",
      "\n",
      "Where:\n",
      "\n",
      "$l=$ Resonator length \n",
      "\n",
      "$t=$ Resonator thickness\n",
      "\n",
      "$w=$ Width of resonator \n",
      "\n",
      "$d =$ Length of the gap between the resonator and ground plane\n",
      "\n",
      "$\\lambda=$ London penetration depth\n",
      "\n",
      "$\\lambda_1=$ Penetration depth of microstrip\n",
      "\n",
      "$\\lambda_2=$ Penetration depth of ground plane\n",
      "\n",
      "$K =$ Fringe factor, accounts for fringing on the resonator\n",
      "\n",
      "$L'_{total}=$ Total inductance per unit length of the microstrip resonator\n",
      "\n",
      "$L'_{film}$= Total inductance per unit length associated with the film, sum of both internal and external inductance\n",
      "\n",
      "$L'_{internal}=$ The inductance associated with the energy contribution from the field in the space between the plates\n",
      "\n",
      "$L'_{external}=$ The inductance associated with the energy contribution from the field in the space outside the plates\n",
      "\n",
      "$L'_{kinetic}=$ The inducatnce associated with the charge carrier's inertial resistance to motion\n",
      "\n",
      "\n",
      "------------------------------------------------------------------\n",
      "\n",
      "We can determine the fringe factor $K$:\n",
      "\n",
      "$K(w,d,t)= \\frac{d}{w}\\frac{2}{\\pi}{\\ln}(\\frac{r_b}{r_a})$\n",
      "\n",
      "$r_a$ and $r_b$ house within them a majority of the interworkings associated with the fringe factor and ultimately allow us to determine the dependence of $K$ on $w,d,$ and $t$. Due to the nature of the following relations, they will be broken up into multiple steps with arbitrary variable names for simplification:\n",
      "\n",
      "${\\ln}(r_a)= -1-\\frac{{\\pi}w}{2d}-\\frac{p+1}{p^{-\\frac{1}{2}}}tanh^{-1}(p^{-\\frac{1}{2}})-ln(\\frac{p-1}{4p})$\n",
      "\n",
      "For $5>\\frac{w}{d}>1$\n",
      "\n",
      "${\\ln}(r_b)= {\\ln}(r_{bo}[(r_{bo}-1)(r_{bo}-p)]^{-\\frac{1}{2}}+(p+1)\\times tanh^{-1}(\\frac{r_{bo}-p}{r_{bo}-1})^{\\frac{1}{2}}-2p^{\\frac{1}{2}}tanh^{-1}(\\frac{r_{bo}-p}{p(r_{bo}-1)})^{\\frac{1}{2}}+\\frac{{\\pi}wp^{\\frac{1}{2}}}{2d})$\n",
      "\n",
      "$r_{bo}=\\eta+\\frac{p+1}{2}{\\ln}({\\Delta})$\n",
      "\n",
      "Where $\\Delta$ is the larger of the following two quantities ($\\eta$ or $p$):\n",
      "\n",
      "$\\eta=p^{\\frac{1}{2}}[\\frac{{\\pi}w}{2d}+\\frac{p+1}{2p^{\\frac{1}{2}}}[1+{\\ln}(\\frac{4}{p-1})]-2tanh^{-1}p^{\\frac{1}{2}}]$\n",
      "\n",
      "$p=2\\beta^2-1+[(2\\beta^2-1)^2-1]^{\\frac{1}{2}}$\n",
      "\n",
      "$\\beta=1+\\frac{t}{d}$\n",
      "\n",
      "Thus it is clear that if one works backwards from $\\beta$ to solve for ${\\ln}(r_a)$ and ${\\ln}(r_b)$ we will be able to plug them into:\n",
      "\n",
      "$K(w,d,t)= \\frac{d}{w}\\frac{2}{\\pi}[{\\ln}(r_b)-{\\ln}(r_a)]$\n",
      "\n"
     ]
    },
    {
     "cell_type": "code",
     "collapsed": false,
     "input": [
      "    def beta(w,d,t):\n",
      "        return(1+(t/d))\n",
      "    \n",
      "    def p(w,d,t):\n",
      "        return 2*(beta(w,d,t)**2)-1+(((2*(beta(w,d,t)**2)-1)**2)-1)**(1/2)\n",
      "    \n",
      "    def nd(w,d,t):\n",
      "        return (p(w,d,t)**(1/2))*(((pi*w)/(2*d))+((p(w,d,t)+1)/(2*(p(w,d,t)**(1/2))))*(1+log(4/(p(w,d,t)-1)))-2)\n",
      "                \n",
      "    '''based on the cited paper the equation should be (p(w,d,t)**(1/2))*(((pi*w)/(2*d))+((p(w,d,t)+1)/(2*(p(w,d,t)**(1/2))))*(1+log(4/(p(w,d,t)-1)))-2*arctanh((p(w,d,t)**(1/2)))\n",
      "       but we approximate the arctanh component as 1 because p is always greater than 1 and thus not within the domain of arctanh'''\n",
      "    \n",
      "    def rbo(w,d,t):\n",
      "        return (nd(w,d,t)+(p(w,d,t)+1)/2)*log(nd(w,d,t))\n",
      "       \n",
      "    def rb(w,d,t):\n",
      "        return log(rbo(w,d,t)*(((rbo(w,d,t)-1)*(rbo(w,d,t)-p(w,d,t)))**(-1/2))+(p(w,d,t)+1)*arctanh(((rbo(w,d,t)-p(w,d,t))/(rbo(w,d,t)-1))**(1/2))-2*(p(w,d,t)**(1/2))*arctanh(((rbo(w,d,t)-p(w,d,t))/(p(w,d,t)*(rbo(w,d,t)-1)))**(1/2))+(pi*w*(p(w,d,t)**(1/2)))/(2*d))\n",
      "    \n",
      "    def ra(w,d,t):\n",
      "        return -1-(pi*w)/(2*d)-((p(w,d,t)+1)/(p(w,d,t)**(-1/2)))*arctanh(p(w,d,t)**(-1/2))-log((p(w,d,t)-1)/4*p(w,d,t))\n",
      "    \n",
      "    def fringe_factor(w,d,t):\n",
      "        \n",
      "        '''Calculating fringe factor, used to factor in fringe effects\n",
      "        when determining total inductance of the resonator'''\n",
      "        \n",
      "        return ((2*d)/(w*pi))*(rb(w,d,t)-ra(w,d,t))\n",
      "    \n",
      "        '''Calculates the penetration depth at a specific temperature\n",
      "        pen_depth_bulk= London penetration depth at T=0K in a bulk material but for \n",
      "        very small temperatures we can ignore this calculation as there will be a negligible change\n",
      "    \n",
      "    def pen_depth (temp,tempcrit,pen_depth_bulk):\n",
      "        return pen_depth_bulk*((1-(temp/tempcrit)**4)**(-1/2))'''\n",
      "    \n",
      "    def inductance_total (w,d,t,temp,tempcrit,pen_depth_micro,pen_depth_ground,resonator_length ):\n",
      "        return (resonator_length*((mu*d)/(fringe_factor(w,d,t)*w))*(1+(pen_depth_micro/d)+(pen_depth_ground/d)))\n",
      "    "
     ],
     "language": "python",
     "metadata": {},
     "outputs": [],
     "prompt_number": 20
    },
    {
     "cell_type": "code",
     "collapsed": false,
     "input": [
      "%%file data.csv\n",
      "Material Property,Al (ground plane),Nb (microstrip)\n",
      "Critical temp. $T_c[K]$,$1.13$,$9.3$\n",
      "Normal resistivity $\\rho_n[{\\Omega}m]$,$3.3\\cdot10^{-9}$,$1.2\\cdot10^{-8}$\n",
      "London penetration depth $\\lambda_{L0}[m]$,$15.4\\cdot10^-{9}$,$33.3\\cdot10^{-9}$\n",
      "Effective coherence length $\\xi_0[m]$,$230\\cdot10^{-9}$,$39\\cdot10^{-9}$\n",
      "Fundamental frequency $f_d[GHz]$,$4.04$,$0.2$\n",
      "Vortex creep $\\epsilon$,$0.15$,$?$"
     ],
     "language": "python",
     "metadata": {},
     "outputs": [
      {
       "output_type": "stream",
       "stream": "stdout",
       "text": [
        "Overwriting data.csv\n"
       ]
      }
     ],
     "prompt_number": 21
    },
    {
     "cell_type": "code",
     "collapsed": false,
     "input": [
      "df = pandas.read_csv('data.csv')"
     ],
     "language": "python",
     "metadata": {},
     "outputs": [],
     "prompt_number": 22
    },
    {
     "cell_type": "code",
     "collapsed": false,
     "input": [
      "df"
     ],
     "language": "python",
     "metadata": {},
     "outputs": [
      {
       "html": [
        "<div style=\"max-height:1000px;max-width:1500px;overflow:auto;\">\n",
        "<table border=\"1\" class=\"dataframe\">\n",
        "  <thead>\n",
        "    <tr style=\"text-align: right;\">\n",
        "      <th></th>\n",
        "      <th>Material Property</th>\n",
        "      <th>Al (ground plane)</th>\n",
        "      <th>Nb (microstrip)</th>\n",
        "    </tr>\n",
        "  </thead>\n",
        "  <tbody>\n",
        "    <tr>\n",
        "      <th>0</th>\n",
        "      <td>                    Critical temp. $T_c[K]$</td>\n",
        "      <td>             $1.13$</td>\n",
        "      <td>              $9.3$</td>\n",
        "    </tr>\n",
        "    <tr>\n",
        "      <th>1</th>\n",
        "      <td>     Normal resistivity $\\rho_n[{\\Omega}m]$</td>\n",
        "      <td>  $3.3\\cdot10^{-9}$</td>\n",
        "      <td>  $1.2\\cdot10^{-8}$</td>\n",
        "    </tr>\n",
        "    <tr>\n",
        "      <th>2</th>\n",
        "      <td> London penetration depth $\\lambda_{L0}[m]$</td>\n",
        "      <td> $15.4\\cdot10^-{9}$</td>\n",
        "      <td> $33.3\\cdot10^{-9}$</td>\n",
        "    </tr>\n",
        "    <tr>\n",
        "      <th>3</th>\n",
        "      <td>      Effective coherence length $\\xi_0[m]$</td>\n",
        "      <td>  $230\\cdot10^{-9}$</td>\n",
        "      <td>   $39\\cdot10^{-9}$</td>\n",
        "    </tr>\n",
        "    <tr>\n",
        "      <th>4</th>\n",
        "      <td>           Fundamental frequency $f_d[GHz]$</td>\n",
        "      <td>             $4.04$</td>\n",
        "      <td>              $0.2$</td>\n",
        "    </tr>\n",
        "    <tr>\n",
        "      <th>5</th>\n",
        "      <td>                    Vortex creep $\\epsilon$</td>\n",
        "      <td>             $0.15$</td>\n",
        "      <td>                $?$</td>\n",
        "    </tr>\n",
        "  </tbody>\n",
        "</table>\n",
        "<p>6 rows \u00d7 3 columns</p>\n",
        "</div>"
       ],
       "metadata": {},
       "output_type": "pyout",
       "prompt_number": 23,
       "text": [
        "                            Material Property   Al (ground plane)  \\\n",
        "0                     Critical temp. $T_c[K]$              $1.13$   \n",
        "1      Normal resistivity $\\rho_n[{\\Omega}m]$   $3.3\\cdot10^{-9}$   \n",
        "2  London penetration depth $\\lambda_{L0}[m]$  $15.4\\cdot10^-{9}$   \n",
        "3       Effective coherence length $\\xi_0[m]$   $230\\cdot10^{-9}$   \n",
        "4            Fundamental frequency $f_d[GHz]$              $4.04$   \n",
        "5                     Vortex creep $\\epsilon$              $0.15$   \n",
        "\n",
        "      Nb (microstrip)  \n",
        "0               $9.3$  \n",
        "1   $1.2\\cdot10^{-8}$  \n",
        "2  $33.3\\cdot10^{-9}$  \n",
        "3    $39\\cdot10^{-9}$  \n",
        "4               $0.2$  \n",
        "5                 $?$  \n",
        "\n",
        "[6 rows x 3 columns]"
       ]
      }
     ],
     "prompt_number": 23
    },
    {
     "cell_type": "markdown",
     "metadata": {},
     "source": [
      "## Calculations for a resonator of $w=256{\\mu}m$ and ground plane $(21mm *  21mm)$\n",
      "\n",
      "(Nb resonator)\n",
      "\n",
      "Vortex density: \n",
      "\n",
      "$\\eta(B)=\\frac{2.89}{{\\mu}m^{2}}$\n",
      "\n",
      "Change in Microwave loss: \n",
      "\n",
      "$\\frac{\\partial(1/Q_v)}{{\\partial}B}=\\frac{2.77}{T}$\n",
      "\n",
      "Frational frequency shift:\n",
      "\n",
      "$\\frac{{\\delta}f}{f_0}=-1.69\\cdot10^{-4}$\n",
      "\n",
      "Microwave loss:\n",
      "\n",
      "$\\frac{1}{Q_v}=1.667\\cdot10^{-4}$\n",
      "\n",
      "Total inductance:\n",
      "\n",
      "$L_{total}=4.84\\cdot10^{-9}H$\n",
      "\n",
      "Total inductance per unit length:\n",
      "\n",
      "$L'_{total}=2.67\\cdot10^{-8}H$\n"
     ]
    },
    {
     "cell_type": "code",
     "collapsed": false,
     "input": [],
     "language": "python",
     "metadata": {},
     "outputs": []
    }
   ],
   "metadata": {}
  }
 ]
}